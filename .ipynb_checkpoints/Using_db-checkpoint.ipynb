{
 "cells": [
  {
   "cell_type": "code",
   "execution_count": 2,
   "id": "f8875e13-4c54-4940-85ac-7ca637e3499e",
   "metadata": {},
   "outputs": [],
   "source": [
    "from using_db import * "
   ]
  },
  {
   "cell_type": "code",
   "execution_count": 12,
   "id": "7100d84a-334c-496b-aa21-79bb9dea83b2",
   "metadata": {},
   "outputs": [],
   "source": [
    "# Показать содержимое базы:\n",
    "# dfs = show_tables_df()\n",
    "# print_all_dataframes(dfs)\n",
    "\n",
    "# Очистить базу:\n",
    "# clean_tables()"
   ]
  },
  {
   "cell_type": "code",
   "execution_count": 12,
   "id": "1961134b-a654-4da9-9a84-5384791310dd",
   "metadata": {},
   "outputs": [
    {
     "data": {
      "text/plain": [
       "{'user_choices': Empty DataFrame\n",
       " Columns: [user_id, choice]\n",
       " Index: [],\n",
       " 'users':      user_id choice  agreement_accepted  trial_used\n",
       " 0  561253712  trial                   1           1,\n",
       " 'outline_keys':    id    user_id   port                password  \\\n",
       " 0   1  561253712  30003  TplpIGNIuajBAAiNmySNcR   \n",
       " \n",
       "                                           access_url  \\\n",
       " 0  ss://Y2hhY2hhMjAtaWV0Zi1wb2x5MTMwNTpUcGxwSUdOS...   \n",
       " \n",
       "                    created_at                  expires_at  max_devices  valid  \n",
       " 0  2025-05-18T03:15:28.818604  2025-05-21T03:15:28.818604            3      1  }"
      ]
     },
     "execution_count": 12,
     "metadata": {},
     "output_type": "execute_result"
    }
   ],
   "source": [
    "dfs = show_tables_df()\n",
    "dfs"
   ]
  },
  {
   "cell_type": "code",
   "execution_count": 8,
   "id": "a0d4fd3a-81c9-4230-8aeb-3643e1647960",
   "metadata": {},
   "outputs": [
    {
     "data": {
      "text/html": [
       "<div>\n",
       "<style scoped>\n",
       "    .dataframe tbody tr th:only-of-type {\n",
       "        vertical-align: middle;\n",
       "    }\n",
       "\n",
       "    .dataframe tbody tr th {\n",
       "        vertical-align: top;\n",
       "    }\n",
       "\n",
       "    .dataframe thead th {\n",
       "        text-align: right;\n",
       "    }\n",
       "</style>\n",
       "<table border=\"1\" class=\"dataframe\">\n",
       "  <thead>\n",
       "    <tr style=\"text-align: right;\">\n",
       "      <th></th>\n",
       "      <th>id</th>\n",
       "      <th>user_id</th>\n",
       "      <th>port</th>\n",
       "      <th>password</th>\n",
       "      <th>access_url</th>\n",
       "      <th>created_at</th>\n",
       "      <th>expires_at</th>\n",
       "      <th>max_devices</th>\n",
       "    </tr>\n",
       "  </thead>\n",
       "  <tbody>\n",
       "  </tbody>\n",
       "</table>\n",
       "</div>"
      ],
      "text/plain": [
       "Empty DataFrame\n",
       "Columns: [id, user_id, port, password, access_url, created_at, expires_at, max_devices]\n",
       "Index: []"
      ]
     },
     "execution_count": 8,
     "metadata": {},
     "output_type": "execute_result"
    }
   ],
   "source": [
    "dfs['outline_keys']"
   ]
  },
  {
   "cell_type": "code",
   "execution_count": 4,
   "id": "b739d7a1-2fab-49ff-a2d0-074609960b69",
   "metadata": {},
   "outputs": [
    {
     "data": {
      "text/plain": [
       "'ss://Y2hhY2hhMjAtaWV0Zi1wb2x5MTMwNTo4cmtWcGx6UHVrQUxhVWVIc3U3VGdk@193.187.174.24:30005/?outline=1'"
      ]
     },
     "execution_count": 4,
     "metadata": {},
     "output_type": "execute_result"
    }
   ],
   "source": [
    "dfs['outline_keys']['access_url'][0]"
   ]
  },
  {
   "cell_type": "code",
   "execution_count": 8,
   "id": "09b45c46-afb3-4b02-8b9a-0126c375e9f5",
   "metadata": {},
   "outputs": [],
   "source": [
    "from outline.outline_script import create_outline_key, generate_qr_image\n",
    "qr = generate_qr_image(dfs['outline_keys']['access_url'][0])"
   ]
  },
  {
   "cell_type": "code",
   "execution_count": 9,
   "id": "55e1f5ec-9878-417b-8f65-cd65ff23ab2f",
   "metadata": {},
   "outputs": [
    {
     "data": {
      "text/plain": [
       "<_io.BytesIO at 0x7ad11ff4dfd0>"
      ]
     },
     "execution_count": 9,
     "metadata": {},
     "output_type": "execute_result"
    }
   ],
   "source": [
    "qr"
   ]
  },
  {
   "cell_type": "code",
   "execution_count": null,
   "id": "a32c3f1f-4417-47a9-a3d8-5ee2015e4290",
   "metadata": {},
   "outputs": [],
   "source": []
  },
  {
   "cell_type": "code",
   "execution_count": 13,
   "id": "cf4c4516-0fca-41ab-8fd6-fef635125129",
   "metadata": {},
   "outputs": [
    {
     "name": "stdout",
     "output_type": "stream",
     "text": [
      "Таблица user_choices очищена.\n",
      "Таблица users очищена.\n",
      "Таблица outline_keys очищена.\n",
      "✅ Очистка завершена.\n"
     ]
    }
   ],
   "source": [
    "clean_tables()"
   ]
  },
  {
   "cell_type": "code",
   "execution_count": null,
   "id": "6f21e8e4-c7e2-4bc6-8083-f1b65a245842",
   "metadata": {},
   "outputs": [],
   "source": []
  },
  {
   "cell_type": "code",
   "execution_count": 5,
   "id": "540f00a0-27da-47c1-87f0-dc6b001a51ff",
   "metadata": {},
   "outputs": [],
   "source": [
    "from db import *"
   ]
  },
  {
   "cell_type": "code",
   "execution_count": null,
   "id": "37d672dd-29d3-4171-8267-544d8c909d41",
   "metadata": {},
   "outputs": [],
   "source": []
  },
  {
   "cell_type": "code",
   "execution_count": 6,
   "id": "638a0cbb-e96f-4b36-adb6-c38fd1f2c441",
   "metadata": {},
   "outputs": [
    {
     "data": {
      "text/plain": [
       "False"
      ]
     },
     "execution_count": 6,
     "metadata": {},
     "output_type": "execute_result"
    }
   ],
   "source": [
    "user_has_any_keys(561253712)"
   ]
  },
  {
   "cell_type": "code",
   "execution_count": null,
   "id": "5de26559-2f98-469a-a62a-84dbf8c2e45f",
   "metadata": {},
   "outputs": [],
   "source": []
  }
 ],
 "metadata": {
  "kernelspec": {
   "display_name": "Python 3 (ipykernel)",
   "language": "python",
   "name": "python3"
  },
  "language_info": {
   "codemirror_mode": {
    "name": "ipython",
    "version": 3
   },
   "file_extension": ".py",
   "mimetype": "text/x-python",
   "name": "python",
   "nbconvert_exporter": "python",
   "pygments_lexer": "ipython3",
   "version": "3.12.3"
  }
 },
 "nbformat": 4,
 "nbformat_minor": 5
}
