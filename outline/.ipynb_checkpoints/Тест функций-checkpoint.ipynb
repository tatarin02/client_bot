{
 "cells": [
  {
   "cell_type": "code",
   "execution_count": 1,
   "id": "f375c18b-2361-40a6-a6ac-deb855ae94bf",
   "metadata": {},
   "outputs": [],
   "source": [
    "from outline_script import *"
   ]
  },
  {
   "cell_type": "code",
   "execution_count": 2,
   "id": "129c8346-3183-4634-a351-65a44a79e0c9",
   "metadata": {},
   "outputs": [
    {
     "name": "stdout",
     "output_type": "stream",
     "text": [
      "{'30000'}\n"
     ]
    },
    {
     "data": {
      "text/plain": [
       "[{'user_id': 561253712,\n",
       "  'port': 30000,\n",
       "  'devices': 0,\n",
       "  'password': 'AEgHrSyT6V3tqDH7jH0UmR',\n",
       "  'access_url': 'ss://Y2hhY2hhMjAtaWV0Zi1wb2x5MTMwNTpBRWdIclN5VDZWM3RxREg3akgwVW1S@193.187.174.24:30000/?outline=1',\n",
       "  'created_at': '2025-05-12T13:51:16.838760'}]"
      ]
     },
     "execution_count": 2,
     "metadata": {},
     "output_type": "execute_result"
    }
   ],
   "source": [
    "get_all_keys_with_connections()"
   ]
  },
  {
   "cell_type": "code",
   "execution_count": 3,
   "id": "eb739dab-5c49-40ce-a213-61c9504060d2",
   "metadata": {},
   "outputs": [
    {
     "data": {
      "text/plain": [
       "{'30000': 2}"
      ]
     },
     "execution_count": 3,
     "metadata": {},
     "output_type": "execute_result"
    }
   ],
   "source": [
    "get_unique_ips_by_port({30000})"
   ]
  },
  {
   "cell_type": "code",
   "execution_count": 20,
   "id": "88991dff-ef70-42b8-94df-d6c9fefe4e56",
   "metadata": {},
   "outputs": [
    {
     "name": "stdout",
     "output_type": "stream",
     "text": [
      "Netid State      Recv-Q Send-Q                       Local Address:Port             Peer Address:Port Process\n",
      "tcp   ESTAB      0      0                                127.0.0.1:54534               127.0.0.1:50203       \n",
      "tcp   ESTAB      0      0                           193.187.174.24:8888           193.187.174.24:35148       \n",
      "tcp   ESTAB      0      0                                127.0.0.1:38930               127.0.0.1:40117       \n",
      "tcp   ESTAB      0      0                           193.187.174.24:47260          193.187.174.24:8888        \n",
      "tcp   ESTAB      0      0                                127.0.0.1:47250               127.0.0.1:37625       \n",
      "tcp   ESTAB      0      0                           193.187.174.24:44816            104.18.41.41:443         \n",
      "tcp   ESTAB      0      0                                127.0.0.1:56926               127.0.0.1:9092        \n",
      "tcp   ESTAB      0      0                           193.187.174.24:47256          193.187.174.24:8888        \n",
      "tcp   ESTAB      0      0                                127.0.0.1:48077               127.0.0.1:44000       \n",
      "tcp   ESTAB      0      0                                127.0.0.1:37625               127.0.0.1:47244       \n",
      "tcp   ESTAB      0      0                                127.0.0.1:9090                127.0.0.1:40674       \n",
      "tcp   ESTAB      0      0                           193.187.174.24:50246          172.64.155.209:443         \n",
      "tcp   ESTAB      0      0                                127.0.0.1:50203               127.0.0.1:54534       \n",
      "tcp   ESTAB      0      0                           193.187.174.24:34324         149.154.167.151:443         \n",
      "tcp   ESTAB      0      0                           193.187.174.24:60662             20.42.65.91:443         \n",
      "tcp   ESTAB      0      0                           193.187.174.24:8888           193.187.174.24:53710       \n",
      "tcp   ESTAB      0      0                                127.0.0.1:44000               127.0.0.1:48077       \n",
      "tcp   ESTAB      0      0                           193.187.174.24:46052            104.18.32.47:443         \n",
      "tcp   ESTAB      0      0                           193.187.174.24:35148          193.187.174.24:8888        \n",
      "tcp   ESTAB      0      0                                127.0.0.1:50203               127.0.0.1:54530       \n",
      "tcp   ESTAB      0      0                                127.0.0.1:37625               127.0.0.1:47250       \n",
      "tcp   ESTAB      0      0                                127.0.0.1:40117               127.0.0.1:38930       \n",
      "tcp   ESTAB      0      0                                127.0.0.1:41546               127.0.0.1:9090        \n",
      "tcp   FIN-WAIT-2 0      0                           193.187.174.24:46886           104.208.16.95:443         \n",
      "tcp   ESTAB      0      0                                127.0.0.1:9090                127.0.0.1:40664       \n",
      "tcp   ESTAB      0      0                                127.0.0.1:40664               127.0.0.1:9090        \n",
      "tcp   ESTAB      0      0                                127.0.0.1:9092                127.0.0.1:56926       \n",
      "tcp   ESTAB      0      0                                127.0.0.1:9090                127.0.0.1:41546       \n",
      "tcp   ESTAB      0      0                           193.187.174.24:46720          193.187.174.24:8888        \n",
      "tcp   ESTAB      0      0                                127.0.0.1:9090                127.0.0.1:56416       \n",
      "tcp   ESTAB      0      0                           193.187.174.24:8888           193.187.174.24:47246       \n",
      "tcp   ESTAB      0      0                           193.187.174.24:8888           193.187.174.24:48952       \n",
      "tcp   ESTAB      0      0                                127.0.0.1:40117               127.0.0.1:38936       \n",
      "tcp   ESTAB      0      0                           193.187.174.24:48952          193.187.174.24:8888        \n",
      "tcp   ESTAB      0      0                                127.0.0.1:9090                127.0.0.1:46116       \n",
      "tcp   ESTAB      0      0                           193.187.174.24:33960           213.221.2.234:443         \n",
      "tcp   ESTAB      0      0                                127.0.0.1:47244               127.0.0.1:37625       \n",
      "tcp   ESTAB      0      0                           193.187.174.24:50224          149.154.167.41:443         \n",
      "tcp   ESTAB      0      0                                127.0.0.1:46116               127.0.0.1:9090        \n",
      "tcp   ESTAB      0      0                           193.187.174.24:8888           193.187.174.24:47256       \n",
      "tcp   ESTAB      0      0                           193.187.174.24:50230          149.154.167.41:443         \n",
      "tcp   ESTAB      0      0                                127.0.0.1:38936               127.0.0.1:40117       \n",
      "tcp   ESTAB      0      0                           193.187.174.24:33958           213.221.2.234:443         \n",
      "tcp   ESTAB      0      0                                127.0.0.1:54530               127.0.0.1:50203       \n",
      "tcp   ESTAB      0      0                           193.187.174.24:8888           193.187.174.24:47260       \n",
      "tcp   ESTAB      0      0                                127.0.0.1:56416               127.0.0.1:9090        \n",
      "tcp   ESTAB      0      0                           193.187.174.24:56768            66.102.1.188:5228        \n",
      "tcp   ESTAB      0      0                           193.187.174.24:55682           45.152.115.86:443         \n",
      "tcp   ESTAB      0      0                                127.0.0.1:40674               127.0.0.1:9090        \n",
      "tcp   ESTAB      0      0                           193.187.174.24:45386          193.187.174.24:22          \n",
      "tcp   ESTAB      0      0                           193.187.174.24:53710          193.187.174.24:8888        \n",
      "tcp   ESTAB      0      0                           193.187.174.24:47246          193.187.174.24:8888        \n",
      "tcp   ESTAB      0      0                           193.187.174.24:8888           193.187.174.24:46720       \n",
      "tcp   CLOSE-WAIT 0      0                  [::ffff:193.187.174.24]:30000   [::ffff:46.193.67.54]:62668       \n",
      "tcp   ESTAB      0      0                  [::ffff:193.187.174.24]:30000   [::ffff:46.193.67.54]:62629       \n",
      "tcp   ESTAB      0      0                  [::ffff:193.187.174.24]:30000   [::ffff:46.193.67.54]:62340       \n",
      "tcp   ESTAB      0      0                  [::ffff:193.187.174.24]:30000   [::ffff:46.193.67.54]:62471       \n",
      "tcp   ESTAB      0      0                  [::ffff:193.187.174.24]:30000   [::ffff:46.193.67.54]:62656       \n",
      "tcp   ESTAB      0      0                  [::ffff:193.187.174.24]:30000   [::ffff:46.193.67.54]:62667       \n",
      "tcp   ESTAB      0      0                  [::ffff:193.187.174.24]:30000   [::ffff:46.193.67.54]:62597       \n",
      "tcp   ESTAB      0      0                  [::ffff:193.187.174.24]:30000   [::ffff:46.193.67.54]:62642       \n",
      "tcp   ESTAB      0      0                  [::ffff:193.187.174.24]:30000  [::ffff:37.167.60.227]:23941       \n",
      "tcp   ESTAB      0      0                  [::ffff:193.187.174.24]:30000   [::ffff:46.193.67.54]:62679       \n",
      "tcp   ESTAB      0      0      [2a13:7c00:5:3:f816:3eff:fe64:7be9]:33282  [2001:67c:4e8:f004::9]:443         \n",
      "tcp   ESTAB      0      0                  [::ffff:193.187.174.24]:30000   [::ffff:46.193.67.54]:62659       \n",
      "tcp   ESTAB      0      0                  [::ffff:193.187.174.24]:30000   [::ffff:46.193.67.54]:62660       \n",
      "tcp   CLOSE-WAIT 25     0      [2a13:7c00:5:3:f816:3eff:fe64:7be9]:52136  [2001:67c:4e8:f004::9]:443         \n",
      "tcp   ESTAB      0      0                  [::ffff:193.187.174.24]:30000   [::ffff:46.193.67.54]:62211       \n",
      "tcp   CLOSE-WAIT 25     0      [2a13:7c00:5:3:f816:3eff:fe64:7be9]:46168  [2001:67c:4e8:f004::9]:443         \n",
      "tcp   ESTAB      0      0                  [::ffff:193.187.174.24]:30000   [::ffff:46.193.67.54]:62468       \n",
      "tcp   ESTAB      0      0                  [::ffff:193.187.174.24]:30000   [::ffff:46.193.67.54]:62596       \n",
      "tcp   ESTAB      0      0                  [::ffff:193.187.174.24]:22    [::ffff:193.187.174.24]:45386       \n",
      "tcp   ESTAB      0      0      [2a13:7c00:5:3:f816:3eff:fe64:7be9]:59058  [2001:67c:4e8:f004::9]:443         \n",
      "tcp   ESTAB      0      0                  [::ffff:193.187.174.24]:30000   [::ffff:46.193.67.54]:62678       \n",
      "tcp   ESTAB      0      0                  [::ffff:193.187.174.24]:30000   [::ffff:46.193.67.54]:62658       \n",
      "tcp   ESTAB      0      0                  [::ffff:193.187.174.24]:30000   [::ffff:46.193.67.54]:62680       \n",
      "tcp   ESTAB      0      0                  [::ffff:193.187.174.24]:30000   [::ffff:46.193.67.54]:62677       \n",
      "tcp   ESTAB      0      0                  [::ffff:193.187.174.24]:30000   [::ffff:46.193.67.54]:62641       \n",
      "\n",
      "Подключения к порту 30000:\n",
      " - 193.187.174.24\n"
     ]
    }
   ],
   "source": [
    "import subprocess\n",
    "import re\n",
    "\n",
    "PORT = \"30000\"\n",
    "\n",
    "def get_active_ips(port: str):\n",
    "    try:\n",
    "        output = subprocess.check_output([\"ss\", \"-ntu\"], text=True)\n",
    "        print(output)\n",
    "        # Поддержка IPv4 и IPv4-mapped IPv6 (::ffff:x.x.x.x)\n",
    "        ip_pattern = re.compile(rf'\\[?::ffff:(\\d+\\.\\d+\\.\\d+\\.\\d+)\\]?:{port}')\n",
    "        \n",
    "        ips = ip_pattern.findall(output)\n",
    "        return sorted(set(ips))\n",
    "    \n",
    "    except subprocess.CalledProcessError as e:\n",
    "        print(f\"Ошибка при выполнении команды: {e}\")\n",
    "        return []\n",
    "\n",
    "if __name__ == \"__main__\":\n",
    "    ips = get_active_ips(PORT)\n",
    "    if ips:\n",
    "        print(f\"Подключения к порту {PORT}:\")\n",
    "        for ip in ips:\n",
    "            print(f\" - {ip}\")\n",
    "    else:\n",
    "        print(\"Нет активных подключений.\")\n"
   ]
  },
  {
   "cell_type": "code",
   "execution_count": 4,
   "id": "5dd15630-9c9b-408e-8cbf-31794cc9047f",
   "metadata": {},
   "outputs": [
    {
     "name": "stdout",
     "output_type": "stream",
     "text": [
      "Уникальные клиенты на порту 30000:\n",
      " - 46.193.67.54: 14 соединений\n",
      " - 193.187.174.24: 1 соединений\n",
      "\n",
      "Всего уникальных IP: 2\n",
      "Всего уникальных устройств (по IP+порту): 15\n"
     ]
    }
   ],
   "source": [
    "import subprocess\n",
    "import re\n",
    "\n",
    "PORT = \"30000\"  # Задай свой порт Outline\n",
    "\n",
    "def get_unique_clients(port: str):\n",
    "    try:\n",
    "        # Получаем вывод ss\n",
    "        output = subprocess.check_output([\"ss\", \"-ntu\"], text=True)\n",
    "\n",
    "        # Поддержка IPv4 и IPv4-mapped IPv6\n",
    "        pattern = re.compile(rf'\\[?::ffff:(\\d+\\.\\d+\\.\\d+\\.\\d+)\\]?:(\\d+)\\s+.*:{port}')\n",
    "        \n",
    "        connections = pattern.findall(output)\n",
    "        \n",
    "        unique_sessions = set(connections)  # Уникальные (IP, порт клиента)\n",
    "\n",
    "        # Можно сгруппировать по IP и посчитать количество портов\n",
    "        client_summary = {}\n",
    "        for ip, _ in unique_sessions:\n",
    "            client_summary.setdefault(ip, 0)\n",
    "            client_summary[ip] += 1\n",
    "        return client_summary\n",
    "        \n",
    "\n",
    "    except subprocess.CalledProcessError as e:\n",
    "        print(f\"Ошибка при выполнении команды: {e}\")\n",
    "        return {}\n",
    "\n",
    "if __name__ == \"__main__\":\n",
    "    summary = get_unique_clients(PORT)\n",
    "    if summary:\n",
    "        print(f\"Уникальные клиенты на порту {PORT}:\")\n",
    "        for ip, count in summary.items():\n",
    "            print(f\" - {ip}: {count} соединений\")\n",
    "        print(f\"\\nВсего уникальных IP: {len(summary)}\")\n",
    "        print(f\"Всего уникальных устройств (по IP+порту): {sum(summary.values())}\")\n",
    "    else:\n",
    "        print(\"Нет активных подключений.\")\n"
   ]
  },
  {
   "cell_type": "code",
   "execution_count": 46,
   "id": "4591c5e5-715f-411c-9f9c-1781154f826a",
   "metadata": {},
   "outputs": [],
   "source": [
    "ports_set = {1,2,3,4}"
   ]
  },
  {
   "cell_type": "code",
   "execution_count": 48,
   "id": "e266a5f5-fec8-4f6c-beae-d0a0e9cfad9a",
   "metadata": {},
   "outputs": [
    {
     "data": {
      "text/plain": [
       "{'1', '2', '3', '4'}"
      ]
     },
     "execution_count": 48,
     "metadata": {},
     "output_type": "execute_result"
    }
   ],
   "source": [
    "set(map(str, ports_set))"
   ]
  },
  {
   "cell_type": "code",
   "execution_count": null,
   "id": "6e1cb101-1ca0-402e-9802-c7629e4927ac",
   "metadata": {},
   "outputs": [],
   "source": [
    "ports = set(str(row[1]) for row in rows) "
   ]
  }
 ],
 "metadata": {
  "kernelspec": {
   "display_name": "Python 3 (ipykernel)",
   "language": "python",
   "name": "python3"
  },
  "language_info": {
   "codemirror_mode": {
    "name": "ipython",
    "version": 3
   },
   "file_extension": ".py",
   "mimetype": "text/x-python",
   "name": "python",
   "nbconvert_exporter": "python",
   "pygments_lexer": "ipython3",
   "version": "3.12.3"
  }
 },
 "nbformat": 4,
 "nbformat_minor": 5
}
