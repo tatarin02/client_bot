{
 "cells": [
  {
   "cell_type": "code",
   "execution_count": 1,
   "id": "f8875e13-4c54-4940-85ac-7ca637e3499e",
   "metadata": {},
   "outputs": [],
   "source": [
    "from using_db import * "
   ]
  },
  {
   "cell_type": "code",
   "execution_count": 3,
   "id": "7100d84a-334c-496b-aa21-79bb9dea83b2",
   "metadata": {},
   "outputs": [],
   "source": [
    "# Показать содержимое базы:\n",
    "# dfs = show_tables_df()\n",
    "# print_all_dataframes(dfs)\n",
    "\n",
    "# Очистить базу:\n",
    "# clean_tables()"
   ]
  },
  {
   "cell_type": "code",
   "execution_count": 4,
   "id": "1961134b-a654-4da9-9a84-5384791310dd",
   "metadata": {},
   "outputs": [
    {
     "data": {
      "text/plain": [
       "{'user_choices': Empty DataFrame\n",
       " Columns: [user_id, choice]\n",
       " Index: [],\n",
       " 'users':       user_id   choice  agreement_accepted  trial_used\n",
       " 0   336938685  monthly                   1           1\n",
       " 1   369190390  monthly                   1           1\n",
       " 2   561253712  monthly                   1           0\n",
       " 3   786829437  monthly                   1           1\n",
       " 4  6759155503     None                   1           0,\n",
       " 'outline_keys':     id    user_id   port                password  \\\n",
       " 0    1  561253712  30000  PaYvhumHndcvV5UP024m96   \n",
       " 1    2  561253712  30001  1xom4haM87YFn3dRKqRaGc   \n",
       " 2    3  561253712  30002  yCu7bWz4WSZW0M9FZt9fwZ   \n",
       " 3    4  336938685  30003  wO7reuDzwI24dhXHj9VKRP   \n",
       " 4    5  336938685  30004  B67p5MEurs1q0zsyv2nwFH   \n",
       " 5    6  369190390  30005  KiehtR8bjjDXGNjdk3CeK7   \n",
       " 6    7  336938685  30006  8s9xBUkddUA9ATxLMCp55B   \n",
       " 7    8  336938685  30007  5k6sVCGLQ5dnCJyIZ1PWln   \n",
       " 8    9  336938685  30008  wecZGShteKInKOsj7mVtp0   \n",
       " 9   10  336938685  30009  YYWv24STmLzS9MBypF1tCR   \n",
       " 10  11  786829437  30010  rNjbAJn9gg3qM4VkiXqKRM   \n",
       " \n",
       "                                            access_url  \\\n",
       " 0   ss://Y2hhY2hhMjAtaWV0Zi1wb2x5MTMwNTpQYVl2aHVtS...   \n",
       " 1   ss://Y2hhY2hhMjAtaWV0Zi1wb2x5MTMwNToxeG9tNGhhT...   \n",
       " 2   ss://Y2hhY2hhMjAtaWV0Zi1wb2x5MTMwNTp5Q3U3Yld6N...   \n",
       " 3   ss://Y2hhY2hhMjAtaWV0Zi1wb2x5MTMwNTp3TzdyZXVEe...   \n",
       " 4   ss://Y2hhY2hhMjAtaWV0Zi1wb2x5MTMwNTpCNjdwNU1Fd...   \n",
       " 5   ss://Y2hhY2hhMjAtaWV0Zi1wb2x5MTMwNTpLaWVodFI4Y...   \n",
       " 6   ss://Y2hhY2hhMjAtaWV0Zi1wb2x5MTMwNTo4czl4QlVrZ...   \n",
       " 7   ss://Y2hhY2hhMjAtaWV0Zi1wb2x5MTMwNTo1azZzVkNHT...   \n",
       " 8   ss://Y2hhY2hhMjAtaWV0Zi1wb2x5MTMwNTp3ZWNaR1Nod...   \n",
       " 9   ss://Y2hhY2hhMjAtaWV0Zi1wb2x5MTMwNTpZWVd2MjRTV...   \n",
       " 10  ss://Y2hhY2hhMjAtaWV0Zi1wb2x5MTMwNTpyTmpiQUpuO...   \n",
       " \n",
       "                     created_at                  expires_at  max_devices  \\\n",
       " 0   2025-05-27T23:36:34.792465  2025-06-26T23:36:34.792465            3   \n",
       " 1   2025-05-27T23:37:58.780148  2025-08-25T23:37:58.780148            3   \n",
       " 2   2025-05-27T23:40:48.783194  2026-05-27T23:40:48.783194            3   \n",
       " 3   2025-05-28T07:28:32.765376  2025-05-31T07:28:32.765376            3   \n",
       " 4   2025-05-28T07:28:54.791796  2025-06-27T07:28:54.791796            3   \n",
       " 5   2025-05-28T14:51:22.812712  2025-05-31T14:51:22.812712            3   \n",
       " 6   2025-05-28T15:30:36.831354  2025-06-27T15:30:36.831354            3   \n",
       " 7   2025-05-28T15:37:00.837343  2025-06-27T15:37:00.837343            3   \n",
       " 8   2025-05-28T15:37:51.843855  2025-06-27T15:37:51.843855            3   \n",
       " 9   2025-05-28T15:38:54.794197  2025-06-27T15:38:54.794197            3   \n",
       " 10  2025-05-29T06:13:38.852712  2025-06-01T06:13:38.852712            3   \n",
       " \n",
       "     valid  notified  \n",
       " 0       0         0  \n",
       " 1       1         0  \n",
       " 2       1         0  \n",
       " 3       0         1  \n",
       " 4       0         0  \n",
       " 5       0         1  \n",
       " 6       0         0  \n",
       " 7       0         0  \n",
       " 8       0         0  \n",
       " 9       0         0  \n",
       " 10      0         1  ,\n",
       " 'payments':     id    user_id  plan_key                     paid_at  used\n",
       " 0    1  561253712   monthly  2025-05-27T23:36:30.836334     1\n",
       " 1    2  561253712   3months  2025-05-27T23:37:55.173115     1\n",
       " 2    3  561253712  12months  2025-05-27T23:40:46.813877     1\n",
       " 3    4  336938685   monthly  2025-05-28T07:28:48.068468     1\n",
       " 4    5  336938685   monthly  2025-05-28T15:30:28.613458     1\n",
       " 5    6  336938685   monthly  2025-05-28T15:36:53.959415     1\n",
       " 6    7  336938685   monthly  2025-05-28T15:37:32.090357     1\n",
       " 7    8  336938685   monthly  2025-05-28T15:38:51.087137     1\n",
       " 8    9  336938685   monthly  2025-05-31T12:37:20.229457     1\n",
       " 9   10  561253712   monthly  2025-06-07T22:09:27.272179     1\n",
       " 10  11  561253712   monthly  2025-06-07T22:09:46.054946     1\n",
       " 11  12  561253712  12months  2025-06-07T22:10:06.797067     1\n",
       " 12  13  561253712  12months  2025-06-07T22:10:22.802007     1\n",
       " 13  14  561253712  12months  2025-06-07T22:10:40.159671     1\n",
       " 14  15  561253712  12months  2025-06-07T22:23:39.544300     1\n",
       " 15  16  561253712  12months  2025-06-12T00:19:40.775151     1\n",
       " 16  17  369190390   monthly  2025-06-21T11:58:27.048448     1\n",
       " 17  18  369190390   monthly  2025-06-21T11:58:36.855672     1\n",
       " 18  19  561253712   monthly  2025-06-22T11:21:31.723471     1\n",
       " 19  20  561253712   monthly  2025-06-22T11:21:41.820062     1}"
      ]
     },
     "execution_count": 4,
     "metadata": {},
     "output_type": "execute_result"
    }
   ],
   "source": [
    "dfs = show_tables_df()\n",
    "dfs"
   ]
  },
  {
   "cell_type": "code",
   "execution_count": 4,
   "id": "a0d4fd3a-81c9-4230-8aeb-3643e1647960",
   "metadata": {},
   "outputs": [
    {
     "data": {
      "text/html": [
       "<div>\n",
       "<style scoped>\n",
       "    .dataframe tbody tr th:only-of-type {\n",
       "        vertical-align: middle;\n",
       "    }\n",
       "\n",
       "    .dataframe tbody tr th {\n",
       "        vertical-align: top;\n",
       "    }\n",
       "\n",
       "    .dataframe thead th {\n",
       "        text-align: right;\n",
       "    }\n",
       "</style>\n",
       "<table border=\"1\" class=\"dataframe\">\n",
       "  <thead>\n",
       "    <tr style=\"text-align: right;\">\n",
       "      <th></th>\n",
       "      <th>id</th>\n",
       "      <th>user_id</th>\n",
       "      <th>port</th>\n",
       "      <th>password</th>\n",
       "      <th>access_url</th>\n",
       "      <th>created_at</th>\n",
       "      <th>expires_at</th>\n",
       "      <th>max_devices</th>\n",
       "      <th>valid</th>\n",
       "      <th>notified</th>\n",
       "    </tr>\n",
       "  </thead>\n",
       "  <tbody>\n",
       "    <tr>\n",
       "      <th>0</th>\n",
       "      <td>1</td>\n",
       "      <td>561253712</td>\n",
       "      <td>30000</td>\n",
       "      <td>bhK3Zmjwfsaa9YVyZ8pzsE</td>\n",
       "      <td>ss://Y2hhY2hhMjAtaWV0Zi1wb2x5MTMwNTpiaEszWm1qd...</td>\n",
       "      <td>2025-05-18T04:06:37.842304</td>\n",
       "      <td>2025-05-21T04:06:37.842304</td>\n",
       "      <td>3</td>\n",
       "      <td>0</td>\n",
       "      <td>1</td>\n",
       "    </tr>\n",
       "    <tr>\n",
       "      <th>1</th>\n",
       "      <td>2</td>\n",
       "      <td>6505772108</td>\n",
       "      <td>30001</td>\n",
       "      <td>ZTdeAPrgq1mg35CRv3T5R9</td>\n",
       "      <td>ss://Y2hhY2hhMjAtaWV0Zi1wb2x5MTMwNTpaVGRlQVByZ...</td>\n",
       "      <td>2025-05-18T04:26:37.793339</td>\n",
       "      <td>2025-05-21T04:26:37.793339</td>\n",
       "      <td>3</td>\n",
       "      <td>0</td>\n",
       "      <td>1</td>\n",
       "    </tr>\n",
       "    <tr>\n",
       "      <th>2</th>\n",
       "      <td>3</td>\n",
       "      <td>369190390</td>\n",
       "      <td>30002</td>\n",
       "      <td>LvS85Lh4o9OacBoFDimRk8</td>\n",
       "      <td>ss://Y2hhY2hhMjAtaWV0Zi1wb2x5MTMwNTpMdlM4NUxoN...</td>\n",
       "      <td>2025-05-20T19:27:37.753973</td>\n",
       "      <td>2025-05-23T19:27:37.753973</td>\n",
       "      <td>3</td>\n",
       "      <td>0</td>\n",
       "      <td>1</td>\n",
       "    </tr>\n",
       "    <tr>\n",
       "      <th>3</th>\n",
       "      <td>4</td>\n",
       "      <td>561253712</td>\n",
       "      <td>30003</td>\n",
       "      <td>mOx7ck5oVcIjBEytMUu0UP</td>\n",
       "      <td>ss://Y2hhY2hhMjAtaWV0Zi1wb2x5MTMwNTptT3g3Y2s1b...</td>\n",
       "      <td>2025-05-27T22:22:22.842679</td>\n",
       "      <td>2025-08-25T22:22:22.842679</td>\n",
       "      <td>3</td>\n",
       "      <td>1</td>\n",
       "      <td>0</td>\n",
       "    </tr>\n",
       "    <tr>\n",
       "      <th>4</th>\n",
       "      <td>5</td>\n",
       "      <td>561253712</td>\n",
       "      <td>30004</td>\n",
       "      <td>wDdaXoyh5tgRDXNArezXd6</td>\n",
       "      <td>ss://Y2hhY2hhMjAtaWV0Zi1wb2x5MTMwNTp3RGRhWG95a...</td>\n",
       "      <td>2025-05-27T22:26:20.764975</td>\n",
       "      <td>2025-11-23T22:26:20.764975</td>\n",
       "      <td>3</td>\n",
       "      <td>1</td>\n",
       "      <td>0</td>\n",
       "    </tr>\n",
       "  </tbody>\n",
       "</table>\n",
       "</div>"
      ],
      "text/plain": [
       "   id     user_id   port                password  \\\n",
       "0   1   561253712  30000  bhK3Zmjwfsaa9YVyZ8pzsE   \n",
       "1   2  6505772108  30001  ZTdeAPrgq1mg35CRv3T5R9   \n",
       "2   3   369190390  30002  LvS85Lh4o9OacBoFDimRk8   \n",
       "3   4   561253712  30003  mOx7ck5oVcIjBEytMUu0UP   \n",
       "4   5   561253712  30004  wDdaXoyh5tgRDXNArezXd6   \n",
       "\n",
       "                                          access_url  \\\n",
       "0  ss://Y2hhY2hhMjAtaWV0Zi1wb2x5MTMwNTpiaEszWm1qd...   \n",
       "1  ss://Y2hhY2hhMjAtaWV0Zi1wb2x5MTMwNTpaVGRlQVByZ...   \n",
       "2  ss://Y2hhY2hhMjAtaWV0Zi1wb2x5MTMwNTpMdlM4NUxoN...   \n",
       "3  ss://Y2hhY2hhMjAtaWV0Zi1wb2x5MTMwNTptT3g3Y2s1b...   \n",
       "4  ss://Y2hhY2hhMjAtaWV0Zi1wb2x5MTMwNTp3RGRhWG95a...   \n",
       "\n",
       "                   created_at                  expires_at  max_devices  valid  \\\n",
       "0  2025-05-18T04:06:37.842304  2025-05-21T04:06:37.842304            3      0   \n",
       "1  2025-05-18T04:26:37.793339  2025-05-21T04:26:37.793339            3      0   \n",
       "2  2025-05-20T19:27:37.753973  2025-05-23T19:27:37.753973            3      0   \n",
       "3  2025-05-27T22:22:22.842679  2025-08-25T22:22:22.842679            3      1   \n",
       "4  2025-05-27T22:26:20.764975  2025-11-23T22:26:20.764975            3      1   \n",
       "\n",
       "   notified  \n",
       "0         1  \n",
       "1         1  \n",
       "2         1  \n",
       "3         0  \n",
       "4         0  "
      ]
     },
     "execution_count": 4,
     "metadata": {},
     "output_type": "execute_result"
    }
   ],
   "source": [
    "dfs['outline_keys']"
   ]
  },
  {
   "cell_type": "code",
   "execution_count": 4,
   "id": "b739d7a1-2fab-49ff-a2d0-074609960b69",
   "metadata": {},
   "outputs": [
    {
     "data": {
      "text/plain": [
       "'ss://Y2hhY2hhMjAtaWV0Zi1wb2x5MTMwNTo4cmtWcGx6UHVrQUxhVWVIc3U3VGdk@193.187.174.24:30005/?outline=1'"
      ]
     },
     "execution_count": 4,
     "metadata": {},
     "output_type": "execute_result"
    }
   ],
   "source": [
    "dfs['outline_keys']['access_url'][0]"
   ]
  },
  {
   "cell_type": "code",
   "execution_count": 8,
   "id": "09b45c46-afb3-4b02-8b9a-0126c375e9f5",
   "metadata": {},
   "outputs": [],
   "source": [
    "from outline.outline_script import create_outline_key, generate_qr_image\n",
    "qr = generate_qr_image(dfs['outline_keys']['access_url'][0])"
   ]
  },
  {
   "cell_type": "code",
   "execution_count": 9,
   "id": "55e1f5ec-9878-417b-8f65-cd65ff23ab2f",
   "metadata": {},
   "outputs": [
    {
     "data": {
      "text/plain": [
       "<_io.BytesIO at 0x7ad11ff4dfd0>"
      ]
     },
     "execution_count": 9,
     "metadata": {},
     "output_type": "execute_result"
    }
   ],
   "source": [
    "qr"
   ]
  },
  {
   "cell_type": "code",
   "execution_count": null,
   "id": "a32c3f1f-4417-47a9-a3d8-5ee2015e4290",
   "metadata": {},
   "outputs": [],
   "source": []
  },
  {
   "cell_type": "code",
   "execution_count": 3,
   "id": "cf4c4516-0fca-41ab-8fd6-fef635125129",
   "metadata": {},
   "outputs": [
    {
     "name": "stdout",
     "output_type": "stream",
     "text": [
      "Таблица user_choices очищена.\n",
      "Таблица users очищена.\n",
      "Таблица outline_keys очищена.\n",
      "Таблица payments очищена.\n",
      "✅ Очистка завершена.\n"
     ]
    }
   ],
   "source": [
    "clean_tables()"
   ]
  },
  {
   "cell_type": "code",
   "execution_count": null,
   "id": "6f21e8e4-c7e2-4bc6-8083-f1b65a245842",
   "metadata": {},
   "outputs": [],
   "source": []
  },
  {
   "cell_type": "code",
   "execution_count": 5,
   "id": "540f00a0-27da-47c1-87f0-dc6b001a51ff",
   "metadata": {},
   "outputs": [],
   "source": [
    "from db import *"
   ]
  },
  {
   "cell_type": "code",
   "execution_count": null,
   "id": "37d672dd-29d3-4171-8267-544d8c909d41",
   "metadata": {},
   "outputs": [],
   "source": []
  },
  {
   "cell_type": "code",
   "execution_count": 6,
   "id": "638a0cbb-e96f-4b36-adb6-c38fd1f2c441",
   "metadata": {},
   "outputs": [
    {
     "data": {
      "text/plain": [
       "False"
      ]
     },
     "execution_count": 6,
     "metadata": {},
     "output_type": "execute_result"
    }
   ],
   "source": [
    "user_has_any_keys(561253712)"
   ]
  },
  {
   "cell_type": "code",
   "execution_count": null,
   "id": "5de26559-2f98-469a-a62a-84dbf8c2e45f",
   "metadata": {},
   "outputs": [],
   "source": []
  }
 ],
 "metadata": {
  "kernelspec": {
   "display_name": "Python 3 (ipykernel)",
   "language": "python",
   "name": "python3"
  },
  "language_info": {
   "codemirror_mode": {
    "name": "ipython",
    "version": 3
   },
   "file_extension": ".py",
   "mimetype": "text/x-python",
   "name": "python",
   "nbconvert_exporter": "python",
   "pygments_lexer": "ipython3",
   "version": "3.12.3"
  }
 },
 "nbformat": 4,
 "nbformat_minor": 5
}
